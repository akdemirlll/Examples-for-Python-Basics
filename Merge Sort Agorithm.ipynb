{
 "cells": [
  {
   "cell_type": "code",
   "execution_count": 1,
   "metadata": {},
   "outputs": [],
   "source": [
    "def mergesort(liste):\n",
    "    if len(liste) == 1:\n",
    "        return liste\n",
    "    \n",
    "    n = len(liste)\n",
    "    \n",
    "    orta_nokta = n // 2\n",
    "    \n",
    "    left = liste[:orta_nokta]\n",
    "    right = liste[orta_nokta:]\n",
    "    \n",
    "    left = mergesort(left) # [2, 4]\n",
    "    right = mergesort(right) # [0, 6, 8]\n",
    "    \n",
    "    # tek elemana düşene kadar recursion devam ediyor. sonrasında asil liste left or right olarak return ediliyor.\n",
    "    \n",
    "    asil = []\n",
    "    \n",
    "    i=0\n",
    "    j=0\n",
    "    while i < len(left) and j < len(right):\n",
    "        if left[i] < right[j]:\n",
    "            asil.append(left[i])\n",
    "            i += 1\n",
    "        else:\n",
    "            asil.append(right[j])\n",
    "            j += 1\n",
    "    if i < len(left):\n",
    "        asil += left[i:]\n",
    "    else:\n",
    "        asil += right[j:]\n",
    "    return asil"
   ]
  },
  {
   "cell_type": "code",
   "execution_count": 2,
   "metadata": {},
   "outputs": [],
   "source": [
    "liste = [2,4,6,0,8,1,7,6,9,3,5]"
   ]
  },
  {
   "cell_type": "code",
   "execution_count": 3,
   "metadata": {},
   "outputs": [
    {
     "data": {
      "text/plain": [
       "[0, 1, 2, 3, 4, 5, 6, 6, 7, 8, 9]"
      ]
     },
     "execution_count": 3,
     "metadata": {},
     "output_type": "execute_result"
    }
   ],
   "source": [
    "mergesort(liste)"
   ]
  }
 ],
 "metadata": {
  "kernelspec": {
   "display_name": "Python 3",
   "language": "python",
   "name": "python3"
  },
  "language_info": {
   "codemirror_mode": {
    "name": "ipython",
    "version": 3
   },
   "file_extension": ".py",
   "mimetype": "text/x-python",
   "name": "python",
   "nbconvert_exporter": "python",
   "pygments_lexer": "ipython3",
   "version": "3.7.4"
  }
 },
 "nbformat": 4,
 "nbformat_minor": 4
}
