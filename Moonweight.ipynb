{
 "cells": [
  {
   "cell_type": "markdown",
   "metadata": {},
   "source": [
    "# Moonweight"
   ]
  },
  {
   "cell_type": "markdown",
   "metadata": {},
   "source": [
    "The program converts your weight on earth, to the equivalent value of your weight on the moon. Your weight on the moon is 16.5% your weight on earth."
   ]
  },
  {
   "cell_type": "code",
   "execution_count": 1,
   "metadata": {},
   "outputs": [
    {
     "name": "stdout",
     "output_type": "stream",
     "text": [
      "How much do you weigh on earth?: 80\n",
      "Your equivalent weight on the moon is 13.2\n"
     ]
    }
   ],
   "source": [
    "# accept weight as input\n",
    "weight = eval(input('How much do you weigh on earth?: '))\n",
    "# formula: equivalent_moon_weight = weight on earth * 16.5 / 100\n",
    "equivalent_moon_weight = (weight * 16.5) / 100\n",
    "# print the answer as, 'your equivalent weight on the moon is ..'\n",
    "print(f'Your equivalent weight on the moon is {equivalent_moon_weight}')"
   ]
  }
 ],
 "metadata": {
  "kernelspec": {
   "display_name": "Python 3",
   "language": "python",
   "name": "python3"
  },
  "language_info": {
   "codemirror_mode": {
    "name": "ipython",
    "version": 3
   },
   "file_extension": ".py",
   "mimetype": "text/x-python",
   "name": "python",
   "nbconvert_exporter": "python",
   "pygments_lexer": "ipython3",
   "version": "3.7.4"
  }
 },
 "nbformat": 4,
 "nbformat_minor": 4
}
