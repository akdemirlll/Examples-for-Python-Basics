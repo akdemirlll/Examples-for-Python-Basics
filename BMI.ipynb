{
 "cells": [
  {
   "cell_type": "markdown",
   "metadata": {},
   "source": [
    "# BMI"
   ]
  },
  {
   "cell_type": "markdown",
   "metadata": {},
   "source": [
    "The BMI is a convenient rule of thumb used to broadly categorize a person as underweight, normal weight, overweight, or obese based on tissue mass (muscle, fat, and bone) and height. Commonly accepted BMI ranges are underweight (under 18.5 kg/m2), normal weight (18.5 to 25), overweight (25 to 30), and obese (over 30)."
   ]
  },
  {
   "cell_type": "code",
   "execution_count": null,
   "metadata": {
    "scrolled": true
   },
   "outputs": [
    {
     "name": "stdout",
     "output_type": "stream",
     "text": [
      "Enter kilos of mass: 82\n",
      "Enter height in meter: 1.83\n",
      "BMI = m / h ^ 2...\n",
      "m = 82.0 kg\n",
      "h = 1.83 m\n",
      "BMI is: 24.48565200513601 kg/m^2\n",
      "BMI category is:  Normal Weight\n"
     ]
    }
   ],
   "source": [
    "while True:\n",
    "    # Read the mass in from the user. type is float\n",
    "    mass_in_kg = float(input(\"Enter kilos of mass: \"))\n",
    "    height_in_meter = float(input(\"Enter height in meter: \"))\n",
    "\n",
    "    # Calculate BMI\n",
    "    # equivalently bmi = m/h^2\n",
    "    bmi = mass_in_kg / (height_in_meter * height_in_meter)\n",
    "\n",
    "    if bmi < 18.5:\n",
    "        bmi_category = \"Underweight\"\n",
    "    elif bmi < 25:\n",
    "        bmi_category = \"Normal Weight\"\n",
    "    elif bmi < 30:\n",
    "        bmi_category = \"Overweight\"\n",
    "    else:\n",
    "        bmi_category = \"Obese\"\n",
    "\n",
    "    # Display work to the user\n",
    "    print(\"BMI = m / h ^ 2...\")\n",
    "    print(\"m = \" + str(mass_in_kg) + \" kg\")\n",
    "    print(\"h = \" + str(height_in_meter) + \" m\")\n",
    "    print(\"BMI is: \" + str(bmi) + \" kg/m^2\")\n",
    "    print(\"BMI category is: \", bmi_category)"
   ]
  },
  {
   "cell_type": "code",
   "execution_count": null,
   "metadata": {},
   "outputs": [],
   "source": []
  }
 ],
 "metadata": {
  "kernelspec": {
   "display_name": "Python 3",
   "language": "python",
   "name": "python3"
  },
  "language_info": {
   "codemirror_mode": {
    "name": "ipython",
    "version": 3
   },
   "file_extension": ".py",
   "mimetype": "text/x-python",
   "name": "python",
   "nbconvert_exporter": "python",
   "pygments_lexer": "ipython3",
   "version": "3.7.4"
  }
 },
 "nbformat": 4,
 "nbformat_minor": 4
}
