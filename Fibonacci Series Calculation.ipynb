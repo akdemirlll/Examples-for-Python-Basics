{
 "cells": [
  {
   "cell_type": "markdown",
   "metadata": {},
   "source": [
    "# Fibonacci Series Calculation"
   ]
  },
  {
   "cell_type": "markdown",
   "metadata": {},
   "source": [
    "In mathematics, the Fibonacci numbers, commonly denoted Fn, form a sequence, \n",
    "called the Fibonacci sequence, such that each number is the sum of the two \n",
    "preceding ones, starting from 0 and 1. That is, \n",
    "F0=0, F1=1, and Fn= Fn-1 + Fn-2 (for n > 1)\n",
    "\n",
    "The beginning of the sequence is thus: \n",
    "0, 1, 1, 2, 3, 5, 8, 13, 21, 34, 55, 89, 144, ..."
   ]
  },
  {
   "cell_type": "code",
   "execution_count": 1,
   "metadata": {},
   "outputs": [],
   "source": [
    "def compute_fibonacci(series_length):\n",
    "    \"\"\"\n",
    "    calculates Fibonacci series for the given length\n",
    "    pre-condition: series length is a valid integer > 0\n",
    "    post-condition: none\n",
    "    \"\"\"\n",
    "\n",
    "    # first Fibonacci number\n",
    "    f0 = 0\n",
    "    print(f0)\n",
    "\n",
    "    if series_length > 1:\n",
    "        # second Fibonacci number\n",
    "        f1 = 1\n",
    "        print(f1)\n",
    "        # calculate the value from third number onwards\n",
    "        for i in range(series_length - 2):\n",
    "            result = f0 + f1\n",
    "            f0 = f1\n",
    "            f1 = result\n",
    "            print(result)"
   ]
  },
  {
   "cell_type": "code",
   "execution_count": 2,
   "metadata": {},
   "outputs": [
    {
     "name": "stdout",
     "output_type": "stream",
     "text": [
      "Enter the length of the Fibonacci Series: 0\n",
      "Invalid input! Please enter a valid integer\n"
     ]
    }
   ],
   "source": [
    "# Read the Fibonacci series length from user, type is integer\n",
    "series_length = int(input(\"Enter the length of the Fibonacci Series: \"))\n",
    "\n",
    "# check if user entered a proper integer, if yes then compute the series, else print error\n",
    "if series_length > 0:\n",
    "    compute_fibonacci(series_length)\n",
    "else:\n",
    "    print(\"Invalid input! Please enter a valid integer\")"
   ]
  },
  {
   "cell_type": "code",
   "execution_count": 3,
   "metadata": {},
   "outputs": [
    {
     "name": "stdout",
     "output_type": "stream",
     "text": [
      "Enter the length of the Fibonacci Series: 8\n",
      "0\n",
      "1\n",
      "1\n",
      "2\n",
      "3\n",
      "5\n",
      "8\n",
      "13\n"
     ]
    }
   ],
   "source": [
    "# Read the Fibonacci series length from user, type is integer\n",
    "series_length = int(input(\"Enter the length of the Fibonacci Series: \"))\n",
    "\n",
    "# check if user entered a proper integer, if yes then compute the series, else print error\n",
    "if series_length > 0:\n",
    "    compute_fibonacci(series_length)\n",
    "else:\n",
    "    print(\"Invalid input! Please enter a valid integer\")"
   ]
  }
 ],
 "metadata": {
  "kernelspec": {
   "display_name": "Python 3",
   "language": "python",
   "name": "python3"
  },
  "language_info": {
   "codemirror_mode": {
    "name": "ipython",
    "version": 3
   },
   "file_extension": ".py",
   "mimetype": "text/x-python",
   "name": "python",
   "nbconvert_exporter": "python",
   "pygments_lexer": "ipython3",
   "version": "3.7.4"
  }
 },
 "nbformat": 4,
 "nbformat_minor": 4
}
