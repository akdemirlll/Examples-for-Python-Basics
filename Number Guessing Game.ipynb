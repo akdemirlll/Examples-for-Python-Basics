{
 "cells": [
  {
   "cell_type": "markdown",
   "metadata": {},
   "source": [
    "# Number Guessing Game"
   ]
  },
  {
   "cell_type": "markdown",
   "metadata": {},
   "source": [
    "It is is to write a simple number guessing game. The program's specifications are as follows:\n",
    "\n",
    "- The program should ask the user for their name and refer to the user by name for the duration of the session.\n",
    "\n",
    "- The user should be prompted for a guess in a predefined interval that is provided to the user.\n",
    "\n",
    "- The user should be continuously prompted for guesses until they guess the correct answer.\n",
    "\n",
    "- The user should be provided with feedback about the guess (whether it's too high or low).\n",
    "\n",
    "- The user should also be notified if the guess is outside the allowable range.\n",
    "\n",
    "Once the correct number is guessed, a new game should be started."
   ]
  },
  {
   "cell_type": "code",
   "execution_count": 1,
   "metadata": {},
   "outputs": [],
   "source": [
    "import random"
   ]
  },
  {
   "cell_type": "code",
   "execution_count": null,
   "metadata": {},
   "outputs": [
    {
     "name": "stdout",
     "output_type": "stream",
     "text": [
      "Hello! Let's play a number guessing game.\n",
      "Please enter your name: akdemir\n",
      "akdemir, I'm thinking of an integer in the interval [1, 100]\n",
      "Please enter your guess: 50\n",
      "akdemir, your guess was too high!\n",
      "\n",
      "Please enter your guess: 25\n",
      "akdemir, your guess was too high!\n",
      "\n",
      "Please enter your guess: 15\n",
      "akdemir, your guess was too high!\n",
      "\n",
      "Please enter your guess: 10\n",
      "akdemir, your guess was too low!\n",
      "\n",
      "Please enter your guess: 13\n",
      "Congratulations akdemir, you got it!\n",
      "\n",
      "akdemir, I'm thinking of an integer in the interval [1, 100]\n"
     ]
    }
   ],
   "source": [
    "MIN_NUMBER = 1\n",
    "MAX_NUMBER = 100\n",
    "\n",
    "print(\"Hello! Let's play a number guessing game.\")\n",
    "\n",
    "# Collect the user's name to make the game more personal\n",
    "user_name = input(\"Please enter your name: \")\n",
    "\n",
    "\n",
    "while True:\n",
    "    # pick a random integer in the interval [MIN_NUMBER, MAX_NUMBER]\n",
    "    target = random.randint(MIN_NUMBER, MAX_NUMBER)\n",
    "\n",
    "    # initialize a variable for the user's guess\n",
    "    user_guess = None\n",
    "    \n",
    "    print(\n",
    "        user_name + \", I'm thinking of an integer in the interval [\"\n",
    "        + str(MIN_NUMBER) + \", \" + str(MAX_NUMBER) + \"]\")\n",
    "\n",
    "    # Run the current game until the user guesses the correct value\n",
    "    while user_guess != target:\n",
    "        user_guess = int(input(\"Please enter your guess: \"))\n",
    "\n",
    "        # Handle guesses outside of allowable range and provide feedback\n",
    "        # to the user so they can refine their guess.\n",
    "        if user_guess > MAX_NUMBER or user_guess < MIN_NUMBER:\n",
    "            print(user_name + \", your guess was out of range!\")\n",
    "        elif user_guess < target:\n",
    "            print(user_name + \", your guess was too low!\")\n",
    "        elif user_guess > target:\n",
    "            print(user_name + \", your guess was too high!\")\n",
    "        else:\n",
    "            print(\"Congratulations \" + user_name + \", you got it!\")\n",
    "\n",
    "        print(\"\")"
   ]
  }
 ],
 "metadata": {
  "kernelspec": {
   "display_name": "Python 3",
   "language": "python",
   "name": "python3"
  },
  "language_info": {
   "codemirror_mode": {
    "name": "ipython",
    "version": 3
   },
   "file_extension": ".py",
   "mimetype": "text/x-python",
   "name": "python",
   "nbconvert_exporter": "python",
   "pygments_lexer": "ipython3",
   "version": "3.7.4"
  }
 },
 "nbformat": 4,
 "nbformat_minor": 4
}
