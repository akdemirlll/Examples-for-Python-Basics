{
 "cells": [
  {
   "cell_type": "markdown",
   "metadata": {},
   "source": [
    "# Temperature Convertor"
   ]
  },
  {
   "cell_type": "markdown",
   "metadata": {},
   "source": [
    "In 1724, physicist Daniel Gabriel Fahrenheit proposed a temperature scale, the Fahrenheit scale.\n",
    "The Celsius scale is also a temperature scale which serves as an SI derived unit, and hence used worldwide.\n",
    "\n",
    "\n",
    "Some countries still continue to use the Fahrenheit scale over the Celsius scale."
   ]
  },
  {
   "cell_type": "markdown",
   "metadata": {},
   "source": [
    "celsius = (fahrenheit - 32) * 5/9\n",
    "\n",
    "fahrenheit = (celsius * 9/5) + 32"
   ]
  },
  {
   "cell_type": "code",
   "execution_count": 1,
   "metadata": {},
   "outputs": [],
   "source": [
    "def fahrenheit_to_celsius():\n",
    "    # get the fahrenheit temperature from the user\n",
    "    fahrenheit = float(input(\"Enter Temperature in Fahrenheit : \"))\n",
    "    # use the formula to calculate temperature in celsius\n",
    "    celsius = (fahrenheit - 32) * 5.0/9.0\n",
    "    # output with appropriate units\n",
    "    print(\"Temperature:\" + str(fahrenheit) + \"F = \" + str(celsius) + \"C\")\n",
    "\n",
    "def celsius_to_fahrenheit():\n",
    "    # get the celsius temperature from the user\n",
    "    celsius = float(input(\"Enter Temperature in Celsius : \"))\n",
    "    # use the formula to calculate temperature in fahrenheit\n",
    "    fahrenheit = (celsius * 9.0/5.0) + 32\n",
    "    # output with appropriate units\n",
    "    print(\"Temperature:\" + str(celsius) +  \"C = \" + str(fahrenheit) + \"F\")"
   ]
  },
  {
   "cell_type": "code",
   "execution_count": 2,
   "metadata": {},
   "outputs": [
    {
     "name": "stdout",
     "output_type": "stream",
     "text": [
      "1. Fahrenheit to Celsius\n",
      "2. Celsius to Fahrenheit\n",
      "Your choice :2\n",
      "Enter Temperature in Celsius : 28\n",
      "Temperature:28.0C = 82.4F\n"
     ]
    }
   ],
   "source": [
    "# get the choice from the user\n",
    "print(\"1. Fahrenheit to Celsius\")\n",
    "print(\"2. Celsius to Fahrenheit\")\n",
    "option = int(input(\"Your choice :\"))\n",
    "\n",
    "# based on the option call the appropriate function\n",
    "# if the user enters an invalid option print the appropriate response\n",
    "if option==1:\n",
    "    fahrenheit_to_celsius()\n",
    "elif option==2:\n",
    "    celsius_to_fahrenheit()\n",
    "else:\n",
    "    print(\"INVALID OPTION!\")"
   ]
  }
 ],
 "metadata": {
  "kernelspec": {
   "display_name": "Python 3",
   "language": "python",
   "name": "python3"
  },
  "language_info": {
   "codemirror_mode": {
    "name": "ipython",
    "version": 3
   },
   "file_extension": ".py",
   "mimetype": "text/x-python",
   "name": "python",
   "nbconvert_exporter": "python",
   "pygments_lexer": "ipython3",
   "version": "3.7.4"
  }
 },
 "nbformat": 4,
 "nbformat_minor": 4
}
