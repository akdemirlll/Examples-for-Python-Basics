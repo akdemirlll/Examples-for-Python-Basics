{
 "cells": [
  {
   "cell_type": "markdown",
   "metadata": {},
   "source": [
    "# Leap Year"
   ]
  },
  {
   "cell_type": "markdown",
   "metadata": {},
   "source": [
    "A leap year (also known as an intercalary year or bissextile year) is a calendar year that contains an additional day (or, in the case of a lunisolar calendar, a month) added to keep the calendar year synchronized with the astronomical year or seasonal year. In the Gregorian calendar, each leap year has 366 days instead of 365, by extending February to 29 days rather than the common 28.\n",
    "\n",
    "Leap Year Rules: How to Calculate Leap Years\n",
    "\n",
    "In the Gregorian calendar, three criterias must be checked to identify leap years:\n",
    "\n",
    "* The given year must be evenly divisible by 4;\n",
    "* If the year can also be evenly divided by 100, it is NOT a leap year; unless:\n",
    "* The year is also evenly divisible by 400. Then it is a leap year."
   ]
  },
  {
   "cell_type": "code",
   "execution_count": 1,
   "metadata": {},
   "outputs": [],
   "source": [
    "def leap_year(year):\n",
    "    # checking whether the provided year is evenly divisibly by 4\n",
    "    if year % 4 == 0:\n",
    "        # checking whether the provided year is evenly divisibly by 100\n",
    "        if year % 100 == 0:\n",
    "            # checking whether the provided year is evenly divisibly by 400\n",
    "            if year % 400 == 0:\n",
    "                print('A given year {} is a leap year'.format(year))\n",
    "            else:\n",
    "                print('A given year {} is NOT a leap year'.format(year))\n",
    "        else:\n",
    "            print('A given year {} is a leap year'.format(year))\n",
    "    else:\n",
    "        print('A given year {} is NOT a leap year'.format(year))"
   ]
  },
  {
   "cell_type": "code",
   "execution_count": 2,
   "metadata": {},
   "outputs": [
    {
     "name": "stdout",
     "output_type": "stream",
     "text": [
      "A given year 2020 is a leap year\n"
     ]
    }
   ],
   "source": [
    "leap_year(2020)"
   ]
  },
  {
   "cell_type": "code",
   "execution_count": 3,
   "metadata": {},
   "outputs": [
    {
     "name": "stdout",
     "output_type": "stream",
     "text": [
      "A given year 1997 is NOT a leap year\n"
     ]
    }
   ],
   "source": [
    "leap_year(1997)"
   ]
  },
  {
   "cell_type": "code",
   "execution_count": 4,
   "metadata": {},
   "outputs": [
    {
     "name": "stdout",
     "output_type": "stream",
     "text": [
      "A given year 2000 is a leap year\n"
     ]
    }
   ],
   "source": [
    "leap_year(2000)"
   ]
  },
  {
   "cell_type": "code",
   "execution_count": 5,
   "metadata": {},
   "outputs": [
    {
     "name": "stdout",
     "output_type": "stream",
     "text": [
      "A given year 1900 is NOT a leap year\n"
     ]
    }
   ],
   "source": [
    "leap_year(1900)"
   ]
  }
 ],
 "metadata": {
  "kernelspec": {
   "display_name": "Python 3",
   "language": "python",
   "name": "python3"
  },
  "language_info": {
   "codemirror_mode": {
    "name": "ipython",
    "version": 3
   },
   "file_extension": ".py",
   "mimetype": "text/x-python",
   "name": "python",
   "nbconvert_exporter": "python",
   "pygments_lexer": "ipython3",
   "version": "3.7.4"
  }
 },
 "nbformat": 4,
 "nbformat_minor": 4
}
