{
 "cells": [
  {
   "cell_type": "markdown",
   "metadata": {},
   "source": [
    "# Pig Latin Translator"
   ]
  },
  {
   "cell_type": "markdown",
   "metadata": {},
   "source": [
    "This is a fun language that alters English words based on a set of rules. One you know the rules, you can use translate words to Pig Latin and speak in this secret language.\n",
    "\n",
    "Here are the rules for translating English to Pig Latin.\n",
    "\n",
    "1) If word begins with consonant sound, all letters before the initial vowel are placed at the end of the word sequence, then, 'ay' is added.\n",
    "\n",
    "2) If word begins with vowel sounds or a silent letter, one just adds 'yay' to the end.\n",
    "\n",
    "3) The cases of individual words are to be preserved. For example, for the sentence: 'Who are you?', the title case of the word 'who' is preserved after translation, so the translation is 'Owhay areyay ouyay?'.\n",
    "\n",
    "4) Punctuation is preserved. If a phrase in English ends with a '.', '?', or '!', the translated phrase in Pig Latin should also end with a '.', '?', or '!'."
   ]
  },
  {
   "cell_type": "code",
   "execution_count": 1,
   "metadata": {},
   "outputs": [],
   "source": [
    "def is_punctuation(char):\n",
    "    return char in ('.', '?', '!')"
   ]
  },
  {
   "cell_type": "code",
   "execution_count": 2,
   "metadata": {},
   "outputs": [],
   "source": [
    "def is_vowel(char):\n",
    "    return char.lower() in ('a', 'e', 'i', 'o', 'u')"
   ]
  },
  {
   "cell_type": "code",
   "execution_count": 3,
   "metadata": {},
   "outputs": [],
   "source": [
    "def is_consonant(char):\n",
    "    return not is_vowel(char)"
   ]
  },
  {
   "cell_type": "code",
   "execution_count": 4,
   "metadata": {},
   "outputs": [
    {
     "name": "stdout",
     "output_type": "stream",
     "text": [
      "This program translates words/phrases from English to Pig Latin. To end the program, type EXIT.\n",
      "Word/phrase to translate: this\n",
      "isthay\n",
      "Word/phrase to translate: is\n",
      "isyay\n",
      "Word/phrase to translate: a\n",
      "ayay\n",
      "Word/phrase to translate: funny\n",
      "unnyfay\n",
      "Word/phrase to translate: language\n",
      "anguagelay\n",
      "Word/phrase to translate: EXIT\n"
     ]
    }
   ],
   "source": [
    "print('This program translates words/phrases from English to Pig Latin. To end the program, type EXIT.')\n",
    "\n",
    "# initially asks for a word/phrase to translate before entering while loop\n",
    "in_str = input('Word/phrase to translate: ')\n",
    "out_str_list = []\n",
    "out_str = ''\n",
    "\n",
    "# while the input string from the user is not 'EXIT', translate the input string in English to Pig Latin\n",
    "while in_str != 'EXIT':\n",
    "    # splits the input into a list of strings, each element is one word\n",
    "    in_str_list = in_str.split()\n",
    "\n",
    "    # translates each word in the list of English words to Pig Latin\n",
    "    for word in in_str_list:\n",
    "        # initializes the pl_word to just hold the original word\n",
    "        # the rest of the code works on altering pl_word according to the translation rules\n",
    "        pl_word = word\n",
    "        punctuation = ''\n",
    "\n",
    "        # checks that word is at least 1 letter long\n",
    "        if len(word) >= 1:\n",
    "            # if the last character of the word is punctuation, strips it off before translating the rest of the word\n",
    "            # and adds it back at the end of the word later\n",
    "            if is_punctuation(word[-1]):\n",
    "                pl_word = word[0:-1]\n",
    "                punctuation = word[-1]\n",
    "                \n",
    "            # translates the word based on Pig Latin translation rules\n",
    "            if is_vowel(word[0]):\n",
    "                pl_word = pl_word.lower() + 'yay'\n",
    "            if is_consonant(word[0]):\n",
    "                first_vowel_index = 0\n",
    "                while first_vowel_index < len(word) and not is_vowel(word[first_vowel_index]):\n",
    "                    first_vowel_index += 1\n",
    "                pl_word = pl_word.lower()[first_vowel_index:] + pl_word.lower()[0: first_vowel_index] + 'ay'\n",
    "\n",
    "            # preserves case by capitalizing the first letter of the translated word if\n",
    "            # the first letter of the original word was capitalized\n",
    "            if word[0].isupper():\n",
    "                pl_word = pl_word.capitalize()\n",
    "\n",
    "        # adds punctuation back onto the translated word\n",
    "        pl_word = pl_word + punctuation\n",
    "\n",
    "        # adds the translated word to a list of translated words\n",
    "        out_str_list.append(pl_word)\n",
    "\n",
    "    # joins all the words in the list of translated words, with a ' ' (space character) between each word \n",
    "    # to form the whole translated word/phrase\n",
    "    out_str = ' '.join(out_str_list)\n",
    "\n",
    "    # prints out the whole translated word/phrase\n",
    "    print(out_str)\n",
    "\n",
    "    # asks for another word/phrase to translate in the while loop\n",
    "    in_str = input('Word/phrase to translate: ')\n",
    "    out_str_list = []\n",
    "    out_str = ''"
   ]
  }
 ],
 "metadata": {
  "kernelspec": {
   "display_name": "Python 3",
   "language": "python",
   "name": "python3"
  },
  "language_info": {
   "codemirror_mode": {
    "name": "ipython",
    "version": 3
   },
   "file_extension": ".py",
   "mimetype": "text/x-python",
   "name": "python",
   "nbconvert_exporter": "python",
   "pygments_lexer": "ipython3",
   "version": "3.7.4"
  }
 },
 "nbformat": 4,
 "nbformat_minor": 4
}
